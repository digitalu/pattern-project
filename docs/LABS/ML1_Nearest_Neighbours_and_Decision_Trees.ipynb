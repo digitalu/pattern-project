{
 "cells": [
  {
   "cell_type": "markdown",
   "metadata": {},
   "source": [
    "# Machine Learning 1 - Nearest Neighbors and Decision Trees\n",
    "\n",
    "## Lab objectives\n",
    "\n",
    "* Classification with decision trees and random forests.\n",
    "* Cross-validation and evaluation."
   ]
  },
  {
   "cell_type": "code",
   "execution_count": 1,
   "metadata": {},
   "outputs": [
    {
     "name": "stdout",
     "output_type": "stream",
     "text": [
      "Pre-loading training data\n",
      "Pre-loading test data\n"
     ]
    }
   ],
   "source": [
    "from lab_tools import CIFAR10, get_hog_image\n",
    "\n",
    "dataset = CIFAR10('../../extern_data/CIFAR10/')"
   ]
  },
  {
   "cell_type": "markdown",
   "metadata": {},
   "source": [
    "# 1. Nearest Neighbor\n",
    "\n",
    "The following example uses the Nearest Neighbor algorithm on the Histogram of Gradient decriptors in the dataset.\n",
    "\n",
    "## Notes:\n",
    "\n",
    "**Hypothesis**: Samples which are close together in feature space belong to the same class.\n",
    "\n",
    "**Fit**: Indexing the position of all samples\n",
    "\n",
    "**Prediction**: Compute euclidian distance to points in training set. Find the k nearest neighbours. Prediction = majority class among those. Can be wighted by distance.\n",
    "\n",
    "\n",
    "Hyper-parameyers:\n",
    "- Number of neighboors\n",
    "- Distance metric\n",
    "- Weghts\n",
    "+ preprocessing"
   ]
  },
  {
   "cell_type": "code",
   "execution_count": 131,
   "metadata": {},
   "outputs": [
    {
     "data": {
      "text/plain": [
       "KNeighborsClassifier(n_neighbors=10)"
      ]
     },
     "execution_count": 131,
     "metadata": {},
     "output_type": "execute_result"
    }
   ],
   "source": [
    "from sklearn.neighbors import KNeighborsClassifier\n",
    "\n",
    "clf = KNeighborsClassifier(n_neighbors=10)\n",
    "clf.fit( dataset.train['hog'], dataset.train['labels'] )"
   ]
  },
  {
   "cell_type": "markdown",
   "metadata": {},
   "source": [
    "* What is the **descriptive performance** of this classifier ?\n",
    "* Modify the code to estimate the **predictive performance**.\n",
    "* Use cross-validation to find the best hyper-parameters for this method."
   ]
  },
  {
   "cell_type": "code",
   "execution_count": 3,
   "metadata": {},
   "outputs": [
    {
     "name": "stdout",
     "output_type": "stream",
     "text": [
      "OH\n",
      "AH\n",
      "15\n",
      "With 15.000000 neighboor\n",
      "0.783 accuracy with a standard deviation of 0.005\n"
     ]
    }
   ],
   "source": [
    "import numpy as np\n",
    "from sklearn.metrics import accuracy_score\n",
    "from sklearn.metrics import confusion_matrix\n",
    "from sklearn.neighbors import KNeighborsClassifier\n",
    "from sklearn import preprocessing\n",
    "from sklearn.decomposition import PCA\n",
    "from sklearn.model_selection import GridSearchCV\n",
    "from sklearn.metrics import classification_report\n",
    "from sklearn.model_selection import cross_val_score\n",
    "\n",
    "print(\"OH\")\n",
    "X_train, y_train = dataset.train['hog'], dataset.train['labels']\n",
    "X_test, y_test = dataset.test['hog'], dataset.test['labels']\n",
    "\n",
    "# NORMALIZATION\n",
    "X_train = preprocessing.normalize(X_train, axis=0)\n",
    "X_test = preprocessing.normalize(X_test, axis=0)\n",
    "\n",
    "# PCA\n",
    "\n",
    "#pca = PCA(n_components=30)\n",
    "#pca.fit(X_train)\n",
    "\n",
    "#X_train = pca.transform(X_train)\n",
    "#X_test = pca.transform(X_test)\n",
    "\n",
    "print(\"AH\")\n",
    "for n_neighbors in [15]:\n",
    "    print(n_neighbors)\n",
    "    clf = KNeighborsClassifier(n_neighbors=n_neighbors, weights='distance', p = 1)\n",
    "    scores = cross_val_score(clf, X_train, y_train, cv=3) \n",
    "\n",
    "    #print(scores)\n",
    "    print(\"With %f neighboor\" % (n_neighbors))\n",
    "    print(\"%0.3f accuracy with a standard deviation of %0.3f\" % (scores.mean(), scores.std()))\n",
    "\n",
    "\n",
    "#y_true, y_pred = y_test, clf.predict(X_test)\n",
    "\n",
    "#print(classification_report(y_true, y_pred))\n",
    "\n",
    "#pred = clf.predict(X_test)\n",
    "\n",
    "#score = accuracy_score(y_test, pred)\n",
    "#print(f\"Normal Nearest Neighbor: {score:.3f}\")"
   ]
  },
  {
   "cell_type": "code",
   "execution_count": null,
   "metadata": {},
   "outputs": [],
   "source": [
    "\n",
    "# -- Your code here -- #\n",
    "import numpy as np\n",
    "from sklearn.metrics import accuracy_score\n",
    "from sklearn.metrics import confusion_matrix\n",
    "from sklearn.neighbors import KNeighborsClassifier\n",
    "from sklearn import preprocessing\n",
    "from sklearn.decomposition import PCA\n",
    "from sklearn.model_selection import GridSearchCV\n",
    "from sklearn.metrics import classification_report\n",
    "\n",
    "X_train, y_train = dataset.train['hog'], dataset.train['labels']\n",
    "X_test, y_test = dataset.test['hog'], dataset.test['labels']\n",
    "\n",
    "# NORMALIZATION\n",
    "X_train = preprocessing.normalize(X_train, axis=0)\n",
    "X_test = preprocessing.normalize(X_test, axis=0)\n",
    "\n",
    "# PCA\n",
    "\n",
    "pca = PCA(n_components=77)\n",
    "pca.fit(X_train)\n",
    "\n",
    "X_train2 = pca.transform(X_train)\n",
    "X_test2 = pca.transform(X_test)\n",
    "\n",
    "clf = KNeighborsClassifier(n_neighbors=10, weights='distance', p = 1)\n",
    "clf.fit( X_train2, y_train )\n",
    "\n",
    "# PREDICTION\n",
    "pred = clf.predict(X_test2)\n",
    "\n",
    "score = accuracy_score(y_test, pred)\n",
    "print(f\"Normal Nearest Neighbor: {score:.3f}\")\n",
    "#cm = confusion_matrix(y_test, pred)\n",
    "#print(cm)\n",
    "\n",
    "\"\"\"\n",
    "for nbcomp in np.arange(76,82,1):\n",
    "    print(nbcomp)\n",
    "    pca = PCA(n_components=nbcomp)\n",
    "    pca.fit(X_train)\n",
    "\n",
    "    X_train2 = pca.transform(X_train)\n",
    "    X_test2 = pca.transform(X_test)\n",
    "\n",
    "    #X_test = np.ascontiguousarray(PCA().fit_transform(X_test))\n",
    "\n",
    "    # CLASSIFIER\n",
    "    clf = KNeighborsClassifier(n_neighbors=10, weights='distance', p = 1)\n",
    "    clf.fit( X_train2, y_train )\n",
    "\n",
    "    # PREDICTION\n",
    "    pred = clf.predict(X_test2)\n",
    "\n",
    "    score = accuracy_score(y_test, pred)\n",
    "    print(f\"Normal Nearest Neighbor: {score:.3f}\")\n",
    "    #cm = confusion_matrix(y_test, pred)\n",
    "    #print(cm)\n",
    "\"\"\"\n",
    "# ['Airplane', 'Bird', 'Horse']\n"
   ]
  },
  {
   "cell_type": "markdown",
   "metadata": {},
   "source": [
    "## 2. Decision Trees\n",
    "\n",
    "[Decision Trees](http://scikit-learn.org/stable/modules/tree.html#tree) classify the data by splitting the feature space according to simple, single-feature rules. Scikit-learn uses the [CART](https://en.wikipedia.org/wiki/Predictive_analytics#Classification_and_regression_trees_.28CART.29) algorithm for [its implementation](http://scikit-learn.org/stable/modules/generated/sklearn.tree.DecisionTreeClassifier.html) of the classifier. \n",
    "\n",
    "* **Create a simple Decision Tree classifier** using scikit-learn and train it on the HoG training set.\n",
    "* Use cross-validation to find the best hyper-paramters for this method."
   ]
  },
  {
   "cell_type": "code",
   "execution_count": 19,
   "metadata": {},
   "outputs": [
    {
     "name": "stdout",
     "output_type": "stream",
     "text": [
      "Normal Nearest Neighbor: 0.573\n",
      "[[625 224 151]\n",
      " [212 519 269]\n",
      " [154 270 576]]\n"
     ]
    }
   ],
   "source": [
    "from sklearn import tree\n",
    "from sklearn.tree import DecisionTreeClassifier\n",
    "\n",
    "clf = DecisionTreeClassifier(random_state=0)\n",
    "clf.fit(X_train, y_train)\n",
    "\n",
    "pred = clf.predict(X_test)\n",
    "\n",
    "score = accuracy_score(y_test, pred)\n",
    "print(f\"Normal Nearest Neighbor: {score:.3f}\")\n",
    "cm = confusion_matrix(y_test, pred)\n",
    "print(cm)\n"
   ]
  },
  {
   "cell_type": "markdown",
   "metadata": {},
   "source": [
    "## 3. Random Forests\n",
    "\n",
    "[Random Forest](http://scikit-learn.org/stable/modules/generated/sklearn.ensemble.RandomForestClassifier.html) classifiers use multiple decision trees trained on \"weaker\" datasets (less data and/or less features), averaging the results so as to reduce over-fitting.\n",
    "\n",
    "* Use scikit-learn to **create a Random Forest classifier** on the CIFAR data. \n",
    "* Use cross-validation to find the best hyper-paramters for this method."
   ]
  },
  {
   "cell_type": "code",
   "execution_count": 25,
   "metadata": {},
   "outputs": [
    {
     "name": "stdout",
     "output_type": "stream",
     "text": [
      "Normal Nearest Neighbor: 0.635\n",
      "[[762 152  86]\n",
      " [200 551 249]\n",
      " [172 235 593]]\n"
     ]
    }
   ],
   "source": [
    "from sklearn.ensemble import RandomForestClassifier\n",
    "\n",
    "# --- Your code here --- #\n",
    "\n",
    "clf = RandomForestClassifier(max_depth=2, random_state=0)\n",
    "clf.fit(X_train, y_train)\n",
    "\n",
    "pred = clf.predict(X_test)\n",
    "\n",
    "score = accuracy_score(y_test, pred)\n",
    "print(f\"Normal Nearest Neighbor: {score:.3f}\")\n",
    "cm = confusion_matrix(y_test, pred)\n",
    "print(cm)\n",
    "\n"
   ]
  },
  {
   "cell_type": "code",
   "execution_count": null,
   "metadata": {},
   "outputs": [],
   "source": []
  }
 ],
 "metadata": {
  "kernelspec": {
   "display_name": "Python 3 (ipykernel)",
   "language": "python",
   "name": "python3"
  },
  "language_info": {
   "codemirror_mode": {
    "name": "ipython",
    "version": 3
   },
   "file_extension": ".py",
   "mimetype": "text/x-python",
   "name": "python",
   "nbconvert_exporter": "python",
   "pygments_lexer": "ipython3",
   "version": "3.9.12"
  }
 },
 "nbformat": 4,
 "nbformat_minor": 2
}
