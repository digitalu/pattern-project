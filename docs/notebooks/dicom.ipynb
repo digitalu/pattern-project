{
 "cells": [
  {
   "cell_type": "markdown",
   "metadata": {},
   "source": [
    "# Playing with DICOM images\n",
    "\n",
    "installation see [pydicom](https://pydicom.github.io/pydicom/stabl/index.html)"
   ]
  },
  {
   "cell_type": "code",
   "execution_count": 3,
   "metadata": {},
   "outputs": [
    {
     "ename": "ModuleNotFoundError",
     "evalue": "No module named 'pydicom'",
     "output_type": "error",
     "traceback": [
      "\u001b[0;31m---------------------------------------------------------------------------\u001b[0m",
      "\u001b[0;31mModuleNotFoundError\u001b[0m                       Traceback (most recent call last)",
      "\u001b[1;32m/Users/nabilelouahabi/Documents/Polytech/Sans titre/docs/notebooks/dicom.ipynb Cell 2'\u001b[0m in \u001b[0;36m<cell line: 1>\u001b[0;34m()\u001b[0m\n\u001b[0;32m----> <a href='vscode-notebook-cell:/Users/nabilelouahabi/Documents/Polytech/Sans%20titre/docs/notebooks/dicom.ipynb#ch0000001?line=0'>1</a>\u001b[0m \u001b[39mimport\u001b[39;00m \u001b[39mpydicom\u001b[39;00m\n\u001b[1;32m      <a href='vscode-notebook-cell:/Users/nabilelouahabi/Documents/Polytech/Sans%20titre/docs/notebooks/dicom.ipynb#ch0000001?line=1'>2</a>\u001b[0m \u001b[39mimport\u001b[39;00m \u001b[39mmatplotlib\u001b[39;00m\u001b[39m.\u001b[39;00m\u001b[39mpyplot\u001b[39;00m \u001b[39mas\u001b[39;00m \u001b[39mplt\u001b[39;00m\n",
      "\u001b[0;31mModuleNotFoundError\u001b[0m: No module named 'pydicom'"
     ]
    }
   ],
   "source": [
    "import pydicom\n",
    "import matplotlib.pyplot as plt"
   ]
  },
  {
   "cell_type": "code",
   "execution_count": null,
   "metadata": {},
   "outputs": [],
   "source": [
    "fpath = '../data/0002.DCM'\n",
    "ds = pydicom.dcmread(fpath)\n",
    "\n",
    "# Normal mode:\n",
    "print()\n",
    "print(f\"File path........: {fpath}\")\n",
    "print(f\"SOP Class........: {ds.SOPClassUID} ({ds.SOPClassUID.name})\")\n",
    "print()\n",
    "\n",
    "pat_name = ds.PatientName\n",
    "display_name = pat_name.family_name + \", \" + pat_name.given_name\n",
    "print(f\"Patient's Name...: {display_name}\")\n",
    "print(f\"Patient ID.......: {ds.PatientID}\")\n",
    "print(f\"Modality.........: {ds.Modality}\")\n",
    "print(f\"Study Date.......: {ds.StudyDate}\")\n",
    "print(f\"Image size.......: {ds.Rows} x {ds.Columns}\")\n",
    "print(f\"Number of frames.: {ds.NumberOfFrames}\")\n",
    "\n",
    "#print(f\"Pixel Spacing....: {ds.PixelSpacing}\")\n",
    "# use .get() if not sure the item exists, and want a default value if missing\n",
    "print(f\"Slice location...: {ds.get('SliceLocation', '(missing)')}\")\n",
    "\n",
    "# plot the image using matplotlib\n",
    "v = ds.pixel_array[:,:,:].max(axis=0)\n",
    "plt.imshow(v, cmap=plt.cm.gray)\n",
    "\n",
    "plt.show()"
   ]
  },
  {
   "cell_type": "code",
   "execution_count": null,
   "metadata": {},
   "outputs": [],
   "source": [
    "dir(ds)"
   ]
  },
  {
   "cell_type": "code",
   "execution_count": null,
   "metadata": {},
   "outputs": [],
   "source": [
    "# authors : Guillaume Lemaitre <g.lemaitre58@gmail.com>\n",
    "# license : MIT\n",
    "\n",
    "import matplotlib.pyplot as plt\n",
    "from pydicom import dcmread\n",
    "from pydicom.data import get_testdata_file\n",
    "\n",
    "fpath = get_testdata_file('CT_small.dcm')\n",
    "ds = dcmread(fpath)\n",
    "\n",
    "# Normal mode:\n",
    "print()\n",
    "print(f\"File path........: {fpath}\")\n",
    "print(f\"SOP Class........: {ds.SOPClassUID} ({ds.SOPClassUID.name})\")\n",
    "print()\n",
    "\n",
    "pat_name = ds.PatientName\n",
    "display_name = pat_name.family_name + \", \" + pat_name.given_name\n",
    "print(f\"Patient's Name...: {display_name}\")\n",
    "print(f\"Patient ID.......: {ds.PatientID}\")\n",
    "print(f\"Modality.........: {ds.Modality}\")\n",
    "print(f\"Study Date.......: {ds.StudyDate}\")\n",
    "print(f\"Image size.......: {ds.Rows} x {ds.Columns}\")\n",
    "print(f\"Pixel Spacing....: {ds.PixelSpacing}\")\n",
    "\n",
    "# use .get() if not sure the item exists, and want a default value if missing\n",
    "print(f\"Slice location...: {ds.get('SliceLocation', '(missing)')}\")\n",
    "\n",
    "# plot the image using matplotlib\n",
    "plt.imshow(ds.pixel_array, cmap=plt.cm.gray)\n",
    "plt.show()"
   ]
  },
  {
   "cell_type": "code",
   "execution_count": null,
   "metadata": {},
   "outputs": [],
   "source": []
  },
  {
   "cell_type": "code",
   "execution_count": null,
   "metadata": {},
   "outputs": [],
   "source": []
  }
 ],
 "metadata": {
  "interpreter": {
   "hash": "aee8b7b246df8f9039afb4144a1f6fd8d2ca17a180786b69acc140d282b71a49"
  },
  "kernelspec": {
   "display_name": "Python 3.10.4 64-bit",
   "language": "python",
   "name": "python3"
  },
  "language_info": {
   "codemirror_mode": {
    "name": "ipython",
    "version": 3
   },
   "file_extension": ".py",
   "mimetype": "text/x-python",
   "name": "python",
   "nbconvert_exporter": "python",
   "pygments_lexer": "ipython3",
   "version": "3.10.4"
  }
 },
 "nbformat": 4,
 "nbformat_minor": 4
}
